{
  "nbformat": 4,
  "nbformat_minor": 0,
  "metadata": {
    "colab": {
      "name": "report_and_code.ipynb",
      "provenance": [],
      "collapsed_sections": [],
      "machine_shape": "hm"
    },
    "kernelspec": {
      "name": "python3",
      "display_name": "Python 3"
    },
    "accelerator": "GPU"
  },
  "cells": [
    {
      "cell_type": "markdown",
      "metadata": {
        "id": "Zzfaa-sAEQ92",
        "colab_type": "text"
      },
      "source": [
        "<h1><center>HACETTEPE UNIVERSITY</center></h1>\n",
        "<h2><center>COMPUTER SCIENCE & ENGINEERING DEPARTMENT</center></h2>\n",
        "<h2><center>FUNDAMENTALS OF MACHINE LEARNING LAB.</center></h2>\n",
        "<h2><center>2<sup>nd</sup> ASSIGNMENT REPORT</center></h2>\n",
        "<center> ________________ </center>\n",
        "<h3><center>FALL 2019</center></h3>\n",
        "<h3><center>Nur Bengisu ÇAM</center></h3>\n",
        "<h3><center>21627097</center></h3>\n",
        "<h3><center>bengisu.cam@gmail.com</center></h3>\n",
        "<center> ________________ </center>\n",
        " <br>\n",
        "\n",
        " ### **PART 1 -THEORY QUESTIONS**\n",
        "\n",
        "#### **MLE**\n",
        "##### **1.**\n",
        " Assume that you have a data consisting of x1, x2, ..., xm where each xi represents a single real value, which means you have m instances in data and each instance has an single real-valued attribute. Assume also that the given data has random uniform distribution between −w and w. You are expected to find the maximum likelihood estimate of w with respect to the given data.\n",
        " \n",
        "- Specify a likelihood function F(w).\n",
        "##### **Answer:**\n",
        "\n",
        "  $F(w)=\\prod_{i=1}^QP_w(x_i)$ where:<br/>\n",
        "\n",
        "$$ P(x)= \\left\\{\\begin{array}{ll}\\frac{1}{2w} & if\\  x_i \\in [-w, w] \\\\0 & otherwise\\\\\n",
        "\\end{array}\\right.$$\n",
        "\n",
        "\n",
        "- Specify the maximum likelihood estimate for w. Consider your answer based\n",
        "on the likelihood function you state.\n",
        "##### **Answer:**\n",
        "From the likelihood function above, we can see that for values $x$ not in range [$-w$ , $w$] the total likelihood is defined as 0.\n",
        "Also, our aim is to maximize $1/w^2$ by choosing $w$ as small as possible. So that we should pick $w$ to fit both max and min data point conditions that we are given:<br/>\n",
        " $ w = max(|min(x_i)|, |max(x_i)|)$, where $1 <= i <= Q$\n",
        "\n",
        "- Assume that this time you are given a labelled data $(xi, yi)$, where yi\n",
        "is 1 or 0. Remember that a generative classifier will try to model $P(y)$ and $P(x|y)$.Define an example dataset the generative classifier utilizing the model you defined above for each $P(x|y)$ could not perform well on.\n",
        "##### **Answer:**\n",
        "Let's say you have all the $x$ for the positive class between $0$ and $Q$ and all those for the negative class between $0$ and $−Q$. ML estimate for $x$ for classes positive and negative will end up with $w = Q$, and as a result, you would always classify the example based on the prior over classes. \n",
        "Here, there is a problem beacuse of the bias term since it needs to be symmetric.\n",
        "\n",
        "\n",
        "- Remember that a discriminative classifier will try to model $P(y|x)$. State\n",
        "that whether you can classify the labelled data given in previously part using\n",
        "such a discriminative classifier or not. If your answer is answer is yes, then\n",
        "please also show that what your suggested classifier looks like.\n",
        "##### **Answer:** \n",
        "Yes, by picking a threshold value and do the classification based on whether $x$ is greater or smaller than the threshold value we can classify the labeled data using a discriminative classifier.\n",
        "\n",
        "\n",
        "##### **2.**\n",
        " Fill the blanks with T (True) or F (False) for the statements given above:\n",
        " - Maximum likelihood estimation provides not only point estimation, but a\n",
        "distribution information of the parameters estimated. ( $False$ )\n",
        " - Maximum likelihood and Bayesian approachs for parameter estimation perform well with low-dimensional dataset with many training examples while\n",
        "their performance is bad on high-dimensional dataset with few training examples. ($False$ )\n",
        "\n",
        "\n",
        "#### **Naive Bayes**\n",
        "##### **1.**\n",
        "\n",
        "| $x$ | $y$ | $z$ | $C$ |\n",
        "| :---: | :---: | :---: | :---: |\n",
        "| 1 | 0 | 1 | 1 |\n",
        "| 1 | 1 | 1 | 1 |\n",
        "| 0 | 1 | 1 | 0 |\n",
        "| 1 | 1 | 0 | 0 |\n",
        "| 1 | 0 | 1 | 0 |\n",
        "| 0 | 0 | 0 | 1 |\n",
        "| 0 | 0 | 0 | 1 |\n",
        "| 0 | 0 | 1 | 0 |\n",
        "\n",
        "Consider that you are given the dataset in the table above consisting of boolean\n",
        "variables $x$, $y$ and $z$ and a single boolean output variable $C$. Suppose that the Naive Bayes classifier is going to be used.\n",
        "- Specify the value of $P(C = 1|x = 1, y = 1, z = 0)$. Show your solution step\n",
        "by step.\n",
        "##### **Answer:**\n",
        "\n",
        "\n",
        "1/2 <br/><br/>\n",
        "$\\frac{P( X = 1, Y= 1, Z = 0| C=1).P( C = 1)}{P( X = 1, Y = 1, Z = 0)}$=<br/>\n",
        "If we open this equation more, we will get:<br/><br/>\n",
        "$\\frac{P( X= 1| C=1).P( Y= 1| C=1). P( Z=0| C=1). P( C=1)}{($P( X=1, Y=1, Z=0| C=1).P(C=1) + P(X=1, Y=1, Z=0| C=0).P(C=0))}$ =\n",
        "<br/>\n",
        "Then we will get :<br/><br/>\n",
        "$\\frac{P( X= 1| C=1).P( Y= 1| C=1). P( Z=0| C=1). P( C=1)}{P( X= 1| C=1).P( Y= 1| C=1). P( Z=0| C=1). P( C=1) + P( X= 1| C=0).P( Y= 1| C=0). P( Z=0| C=0). P( C=0)}$=<br/>\n",
        "Now we can finally place the values:<br/><br/>\n",
        "$\\frac{(\\frac{2}{4} .\\frac{1}{4}. \\frac{2}{4}. \\frac{2}{4})}{(\\frac{2}{4} .\\frac{1}{4}. \\frac{2}{4}. \\frac{2}{4}) + (\\frac{2}{4} . \\frac{2}{4} . \\frac{1}{4} . \\frac{2}{8})}= 1/2$\n",
        "<br/><br/>\n",
        "- Specify the value of $P(C = 0|x = 1, y = 1)$. Show your solution step by step.\n",
        "##### **Answer:**\n",
        "2/3 <br/><br/>\n",
        "$P( C = 0 | X = 1, Y= 1)$ = $\\frac{P( X = 1, Y= 1| C=0). P( C = 0)}{P( X = 1, Y = 1)}$<br/><br/>\n",
        "If we open this equation more, we will get: <br/><br/>\n",
        "$\\frac{P( X= 1| C=0).P( Y= 1| C=0). P( C=0)}{(P(X=1, Y=1| C=0).P(C=0)) + (P( X=1, Y=1| C=1).P(C=1))}$<br/><br/>\n",
        "Then we will get :<br/><br/>\n",
        "$\\frac{P( X= 1| C=0).P( Y= 1| C=0). P( C=0)}{($P( X= 1| C=0).P( Y= 1| C=0). P( C=0) + P( X= 1| C=1).P( Y= 1| C=1). P( C=1)}$)<br/><br/>\n",
        "Now we can finally place the values:<br/><br/>\n",
        "$\\frac{(\\frac{2}{4} . \\frac{2}{4}. \\frac{1}{2})}{(\\frac{2}{4} . \\frac{2}{4}. \\frac{1}{2}) + (\\frac{2}{4} . \\frac{1}{4} . \\frac{1}{2})}$ = $2/3$\n",
        "\n",
        "\n",
        "Now suppose that the Joint Naive Bayes classifier is used for the options below:\n",
        "- Specify the value of $P(C = 1|x = 1, y = 1, z = 0)$. Show your solution step\n",
        "by step.\n",
        "##### **Answer:**\n",
        "0<br/><br/>\n",
        "For the joint naive bayes, we should search the exact combination from the table.<br/><br/>\n",
        "$\\frac{number of combinations( C=1 , X=1, Y=1, Z=0 )}{number of combinations( X=1, Y=1, Z=0 )}$ $=$ $0$ ,<br/><br/> since there is no such a combination.\n",
        "\n",
        "\n",
        "- Specify the value of $P(C = 0|x = 1, y = 1)$. Show your solution step by step.\n",
        "##### **Answer:**\n",
        "1/2<br/><br/>\n",
        " Here we also should search the exact combination from the table.<br/><br/>\n",
        "$\\frac{number of combinations( C=0 , X=1, Y=1)}{number of combinations( X=1, Y=1)}$ $=$ $1/2$\n",
        "\n",
        "\n",
        "##### **2.**\n",
        "Assume that you have three variables, which are $A$, $B$ and $C$.\n",
        "- Suppose that you have the following informations $P(C|A)$ = 0.7 and $P(C|B)$ =0.4. State that whether you can compute $P(C|A, B)$ with the informations\n",
        "given previously or not. Besides show your solution if you can and explain\n",
        "the reason if you can not.\n",
        "##### **Answer:**\n",
        "Information is not enough.<br/>\n",
        "$P(C|A,B)$ = $\\frac{P(A,B|C).P(C)}{P(A,B)}$ = $\\frac{P(A|C).P(B|C).P(C)}{(P(A,B|C).P(C) + P(A,B|~C).P(~C))}$ = \n",
        "$\\frac{P(A|C).P(B|C).P(C)}{(P(A|C).P(B|C).P(C) + P(A|~C).P(B|~C).P(~C))}$ <br/>\n",
        "Since we are only given $P(C|A)$ = 0.7 , $P(C|B)$ = 0.4 and we are not given $P(A)$, $P(B)$ and $P(C)$, we cannot calculate.\n",
        "\n",
        "\n",
        "- Suppose that besides two informations above, $P(A)$ = 0.3 and $P(B)$ = 0.5\n",
        "informations are given. State that whether you can compute $P(C|A, B)$ with\n",
        "the informations given previously or not. Besides show your solution if you\n",
        "can and explain the reason if you can not.\n",
        "##### **Answer:**\n",
        "Information is not enough.<br/><br/>\n",
        "$P(C|A,B)$ = $\\frac{P(A,B|C).P(C)}{P(A,B)}$ = $\\frac{P(A|C).P(B|C).P(C)}{(P(A,B|C).P(C) + P(A,B|~C).P(~C))}$ \n",
        " = $\\frac{P(A|C).P(B|C).P(C)}{(P(A|C).P(B|C).P(C) + P(A|~C).P(B|~C).P(~C))}$ <br/>\n",
        "We are given $P(C|A)$ = 0.7 , $P(C|B)$ = 0.4 and additionally we are given $P(A)$ = 0.3 and $P(B)$ = 0.5. But unfortunately we are not given $P(C)$. So, we cannot calculate.\n",
        "\n",
        "- Finally assume that you have only informations, which are $P(C, A)$ = 0.2,\n",
        "$P(A)$ = 0.3 and $P(B)$ = 1. State that whether you can compute $P(C|A, B)$\n",
        "with the informations given previously or not. Besides show your solution if\n",
        "you can and explain the reason if you can not.\n",
        "##### **Answer:**\n",
        "2/3<br/>\n",
        "$P(C|A,B)$ = $\\frac{P(A,B|C).P(C)}{P(A,B)}$\n",
        "Since $P(B)$ = 1, we can omit $P(B|C)$ since it is also 1. Also $P(A,B)$ is $P(A)$.<br/> <br/>So we get;<br/><br/>\n",
        " $\\frac{P(A|C).P(C)}{P(A,B)}$ = $\\frac{(P(A,C) / P(C)) . P(C)}{P(A,B)}$ = $\\frac{P(A,C)}{P(A)}$ = $\\frac{0.2}{0.3}$ = $\\frac{2}{3}$\n",
        "\n",
        "\n",
        "\n",
        "\n",
        "### **PART 2 -DETECTION OF FAKE NEWS**\n",
        "<br>\n",
        "<p>  In this assignment we are required to implement a fake news detector by using  the Fake New dataset, based on the column values in the dataset. Here the columns are id, title, author, text and label. Id is the id of the each comment, title is the title of the comment, author is the author of the comment, text is the comments itself and finally the label is the label that indicates whether the comment is fake or not. If the label is 1, then its fake and vice versa.\n",
        "First of all, I divided the given $fake{\\_}news{\\_}train.csv$ dataset into test and train. To do that, I used the function in $sklearn.model{\\_}selection.train{\\_}test{\\_}split()$  bu specifying the ratio of test/train as 0.2. This function randomly divides the given dataset into train and test datasets.\n",
        "\n",
        "\n",
        "\n",
        "#### **Part 1 - Understanding the Data**\n",
        "\n",
        "In this part, I used the **title** column of the given dataset. I got the 3 specific keywords and their corresponding frequencies. I represented them in the bar graphs for each parameter.\n",
        "\n",
        "\n",
        "Image 1\n",
        "![Image1](https://drive.google.com/uc?id=1qwiJZlQH_xbY6oQEOf6W8n8QdQ8knsFX)\n",
        "\n",
        "Image 2\n",
        "![Image2](https://drive.google.com/uc?id=1xFbq7G8K4D_J9lMDPSAa8VRb_au7JrR8)\n",
        "\n",
        "Image 3\n",
        "![Image3](https://drive.google.com/uc?id=16Cp1ef0cjrrQM894mx0zWqpeVcAx7Vdt)\n",
        "\n",
        "Image 4\n",
        "![Image4](https://drive.google.com/uc?id=1xHhxH0jyMwzAKS6Fd3VgjtbxOXJqoi84)\n",
        "\n",
        "Image 5\n",
        "![Image5](https://drive.google.com/uc?id=1-MgIXDmn9X2rIc4TSfolm0qjSLONHOmU)\n",
        "\n",
        "Image 6\n",
        "![Image6](https://drive.google.com/uc?id=1Zuux_5w-MFvFQJLdB3GzTCbNrc5S3aD3)\n",
        "\n",
        "Image 7\n",
        "![Image7](https://drive.google.com/uc?id=1hIHRfZI2Hh3Ir8yNWaLYEl2oZkGlgjY5)\n",
        "\n",
        "Image 8\n",
        "![Image8](https://drive.google.com/uc?id=1h2-1VGKRhW4kR7gF8hMxtFtFs67L2bRH)\n",
        "\n",
        "\n",
        "#### **Part 2 - Implementing Naive Bayes**\n",
        "\n",
        "In this part, we are required to implement Naive Bayes algorithm which is a simple probabilistic algorithm, used in classification problems. I implemented my own Naive Bayes classifier which is a function called **$naive{\\_}bayes(fake{\\_}dict, nonfake{\\_}dict, test{\\_}df ,fake{\\_}prior, nonfake{\\_}prior, n{\\_}gram)$**. As you can see it takes several parameters and one of the most important one is the *fake_dict* and *nonfake_dict*. These are simply the dictionaries for fake dataset and real dataset. In these dictionaries, keys are the words that is written in the comments text column and the values are the frequencies which simply indicates how many times the word has seen in the dataset. To create these dictionaries, I implemented another function which is called\n",
        "$BoW(df,countizer, ngram, sw, max{\\_}freq, min{\\_}freq)$.This function simply returns the **Bag-of-Words** meaning the dictionaries mentioned above. This function takes the train or test dataset as a dataframe and calculates the frequencies of each indiviual or group of words by using **Count_Vectorizer** from $sklearn.feature{\\_}extraction.text{\\ }CountVectorizer$.[1] Another important parameter here is the **ngram** value. This parameter should set to (1,1) if you want to create the dictionary for **Uni-gram** meaning that each individual word is a key. I also tried my algorithm with (2,2) to get the dictionary for **Bi-gram** meaning that each consecutive words are considered as a whole and the frequencies values are calculated according to this. Another parameter is **sw** indicating the **stop-words**. If you set it to None, then you include the stop-words into your dictionary. If you set it to 'english', you do not include the stop-words in English language. **max_df** and **min_df** is used to take the certain words which have the frequencies in this range of $min{\\_}df <= frequency <= max{\\_}df$. I needed to set this parameter to 1.0 and 0.2 in order to create the dictionary for Bi-gram. Since in Bi-gram, the algorithm tries to look every consecutive words, it uses too much RAM and without these parameters, I could not get a result. There is a side affect of using these parameters. Since I ony created a bi-gram dictionary for consecutive words having frequencies larger than 0.2, in the bi-gram the accuracy was lower than the bi-gram. <br/>\n",
        "Back to the **Naive Bayes** algorithm, it simply classifies the test dataset comments with respect to the probabilities of each comment being fake or real by comparing the total probabilities of being fake and real. It also considers the **priors** of being fake or real which are calculated using train dataset. There are some comments with **empty text values**, for those of them I classified them as **class '2' which is an unexiting class** in the dataset. **I simply did not consider these comments with label '2'.** In the Naive Bayes algorithm, I calculated the probabilities as **log base 2**  and this way the multiplication of each word probability either being fake or real became an addition.\n",
        "\n",
        "**Additionally, I implemented a funtion called $narrow{\\_}BoW(fake{\\_}bag, nonfake{\\_}bag)$, which simply  narrows the dictionary that I extracted using $BoW(df,countizer, ngram, sw, max{\\_}freq, min{\\_}freq)$ function.** I looked up the dictionaries of real and fake, compared the keys meaning the words and if a word occurs in both of the dictionaries, I kept the one with the highest value meaning the highest presedence and deleted the other word from the other dictionary. This way, I ensured that in the new dictionaries for both of the real and fake ones, **does not contain the same words**. Also I narrowed these into size 10, to be able to run Naive-Bayes and try to classify with using only most important 10 words for real and fake datasets. You can refer to the accuracy in Part 4.\n",
        "\n",
        "#### **Part 3 - Data Analysis**\n",
        "\n",
        "- First of all, we are required to get 10 words which either predicts or not predicts comments being fake or real. To do this, I created a function called $calculate{\\_}tfidf(df, range)$. In this function, I simply used $sklearn.feature{\\_}extraction.text$ $CountVectorizer$ and $sklearn.feature{\\_}extraction.text$ $TfidfTransformer$ consecutively. The first function is also used in Naive Bayes algorithm to calculate the frequency of each word appering in the whole dataset. The other function simply takes the frequenct matrix calculated by the first function and translates it into **Term Frequncy-Inverse Document Frequency weights**. These **TF-IDF values** are **important** for us because only the frequency information of each word is not enough and yet using the frequency information directly can cause the more important but also the rarer words to be lost. So for the first task of this part, you can find the corresponding 10 important/unimportant words. To create the table above, I **deleted the common words in real and fake datasets** in order to represent 10 meaningful words which either detects well/bad whether a comment fake or real.<br/>\n",
        "\n",
        "| 10-words | w1 | w2 | w3 |  w4 | w5 | w6 | w7 | w8 | w9 | w10 |\n",
        "| :---: | :---: | :---: | :---: |:---: | :---: | :---: | :---: |:---: | :---: |:---: |\n",
        "|10 words whose presence most strongly predicts news is real | mr |week | week | work | added | national | white | took | times | including |\n",
        "|10 words whose absence most strongly predicts news is real | kevin_nealon |kevinfalls | khadija | khadem | khadim | kewpie | kfsn | khalden | keyframe | khaleesi |\n",
        "|10 words whose presence most strongly predicts news is fake | media |november | election | need | october | campaign | hillary | 2016 | use | fact |\n",
        "|10 words whose absence most strongly predicts news is fake | linguistics |lingua | linwood | lingonberries | lipoprotein | loco | linguistische | linebackers | lingo | linder |\n",
        "\n",
        "<br/>\n",
        "\n",
        "- Secondly, I used my **Naive Bayes** algorithm **with and without the stop words**. Stop words can be meaningless or meaningfull, it depends on the data. Usually it might seem unimportant, but when I tried both of them the accuracy was higher in the case where I hold the stop words. In the above table, these 10 words are the words without stop-words. So for second step's results, you can also refer to the above table as well.\n",
        "\n",
        "- Thirdly, I have analyzed the effect of the stop-words by running Naive Bayes algorithm with and without the stop words. As I mentioned before, the **importance of the stop words depend on the data**. Also, there is no such a thing as a universal stop-word lsit. For some datasets, the combinations of the stop words may actually help the classification process. Yet theoretically stop-words should be the most meaningless words in the corpus, in practice it is different and differs from dataset to dataset. So the best approach should be keeping the stop words at first, calculate the accuracy of the prediction an do the same process with not using stop words and finally comparing the results. By looking at the final accuracies, you can keep or throw the stop words for you clasification task.[2] **For the comparison, you can refer to the Part 4**.\n",
        "\n",
        "#### **Part 4 - Accuracy Comparisons**\n",
        "<br/>\n",
        "\n",
        "| Models and Parameters | Accuracy |\n",
        "| :---: | :---: |\n",
        "| Uni-Gram With Stop-Words | 90.8340 |\n",
        "| Uni-Gram Without Stop-Words | 81.029 |\n",
        "| Bi-Gram With Stop-Words | 48.81889 |\n",
        "| Bi-Gram Without Stop-Words | 48.81889 |\n",
        "| Top-10 Fake and Real Words Precedence (Narrowing BoW) | 54.4235 |\n",
        "\n",
        "<br/>\n",
        "\n",
        "From the table above, **these accuracies are calculated with the train dictionary including all the words in text column. (Only the last row is calculated differently, with only 10 words)** We can see that the stop-words are good for this dataset and for my algorithm. With the Bi-gram the accuracy is really low. The thing that caused it to happen like this can be the **max_df** and **min_df** values given into $BoW(df,countizer, ngram, sw, max{\\_}freq, min{\\_}freq)$ function. They restrict the words by using these frequency ranges. So, the accuracy is low with the Bi-gram beacuse in train and test real/fake dictionaries, there are not so much of the common words. I think this is the reason for Bi-Gram giving low accuracy than the Uni-Gram. But why in Bi-gram the accuracies are the same for the versions with stop-words and without stop-words? I guess the main reason is that, in the Bi-Gram, because of the ranges **max_df** and **min_df**, the extracted words are different in test and train dictionaries. So the stop-words did not effect the accuracy. In theoretically, we would expect the accuracy being higher in Bi-gram compared to Uni-gram. But beacuse of the unsufficient RAM, I needed to try it with reducing the size o the dictionaries. So in practice, my results are different than the theoretical assumptions. You can also see the result of Narrowing the Bow in the last row of the table. It is also low compared to the dictionaries created by using all the words in text, because in that one, I only had a dictionary with 10 words. From my opinion, this is not sufficient to correctly classify the corpus with a very large word size. \n",
        "\n",
        "\n",
        "#### **NOTES**\n",
        "- I used **Google Colab** to write and run this assignment. So please follow the steps in the *text cells* to be able to understand where you should give the path of the files and also where to change the hyperparameters. You can also run it on Jupyter by specifying the dataset path accordingly.\n",
        "- It took only minutes to run this assignment on Colab.\n",
        "- Implemented in Python3\n",
        "  \n",
        "  \n",
        " \n",
        "#### **REFERENCES**\n",
        "- [1] https://scikit-learn.org/stable/\n",
        "- [2] https://medium.com/@limavallantin/why-is-removing-stop-words-not-always-a-good-idea-c8d35bd77214\n",
        "\n",
        "  \n",
        "\n"
      ]
    },
    {
      "cell_type": "markdown",
      "metadata": {
        "id": "AZaXW7qsm2b0",
        "colab_type": "text"
      },
      "source": [
        "# **PART 2- CODE**\n",
        "**If you are going to run this code in Colab, do the following. Give the path of the fake_news_train.csv into fake_news_data_path variable. \n",
        "Else, go to the next code cell.**"
      ]
    },
    {
      "cell_type": "code",
      "metadata": {
        "id": "ipeEeYgl78aR",
        "colab_type": "code",
        "outputId": "26d84c27-8952-40ff-d732-b73dec39267a",
        "colab": {
          "base_uri": "https://localhost:8080/",
          "height": 126
        }
      },
      "source": [
        "from google.colab import drive\n",
        "drive.mount('/content/drive')\n",
        "\n",
        "fake_news_data_path = \"/content/drive/My Drive/Colab Notebooks/MachineLearning/secondAss/fake_news_train.csv\"\n"
      ],
      "execution_count": 1,
      "outputs": [
        {
          "output_type": "stream",
          "text": [
            "Go to this URL in a browser: https://accounts.google.com/o/oauth2/auth?client_id=947318989803-6bn6qk8qdgf4n4g3pfee6491hc0brc4i.apps.googleusercontent.com&redirect_uri=urn%3aietf%3awg%3aoauth%3a2.0%3aoob&response_type=code&scope=email%20https%3a%2f%2fwww.googleapis.com%2fauth%2fdocs.test%20https%3a%2f%2fwww.googleapis.com%2fauth%2fdrive%20https%3a%2f%2fwww.googleapis.com%2fauth%2fdrive.photos.readonly%20https%3a%2f%2fwww.googleapis.com%2fauth%2fpeopleapi.readonly\n",
            "\n",
            "Enter your authorization code:\n",
            "··········\n",
            "Mounted at /content/drive\n"
          ],
          "name": "stdout"
        }
      ]
    },
    {
      "cell_type": "markdown",
      "metadata": {
        "id": "iT7x5ZnDoA9c",
        "colab_type": "text"
      },
      "source": [
        "**Give the path accordingly to run this code in Jupyter Notebook**"
      ]
    },
    {
      "cell_type": "code",
      "metadata": {
        "id": "1E0t75li-o2S",
        "colab_type": "code",
        "colab": {}
      },
      "source": [
        "fake_news_data_path = r\"C:\\Users\\bengi\\Downloads\\fake_news_train.csv\""
      ],
      "execution_count": 0,
      "outputs": []
    },
    {
      "cell_type": "markdown",
      "metadata": {
        "id": "k4l7oNdzm4A4",
        "colab_type": "text"
      },
      "source": [
        "**Library Imports**"
      ]
    },
    {
      "cell_type": "code",
      "metadata": {
        "id": "dZp-OXQf_Ix8",
        "colab_type": "code",
        "colab": {}
      },
      "source": [
        "import matplotlib.pyplot as plt\n",
        "import numpy as numpy\n",
        "import pandas as pd\n",
        "import sklearn as sk\n",
        "import math\n",
        "from sklearn.feature_extraction.text import ENGLISH_STOP_WORDS\n",
        "#from sklearn.feature_extraction.text import TfidfVectorizer\n",
        "from sklearn.feature_extraction.text import CountVectorizer\n",
        "from sklearn.feature_extraction.text import TfidfTransformer\n",
        "\n",
        "from sklearn.model_selection import train_test_split\n",
        "import collections\n",
        "import string\n",
        "\n",
        "\n",
        "\n",
        "# create dataframes by reading the .csv files\n",
        "fake_news_df = pd.read_csv(fake_news_data_path, delimiter= \",\")\n",
        "\n",
        "index = fake_news_df.index\n",
        "columns = fake_news_df.columns\n",
        "values = fake_news_df.id.values\n",
        "\n",
        "count_row = fake_news_df.shape[0]\n",
        "\n",
        "fake_news_df.dropna(subset=['text'], inplace = True)\n"
      ],
      "execution_count": 0,
      "outputs": []
    },
    {
      "cell_type": "markdown",
      "metadata": {
        "id": "KpRCnq-gmeDn",
        "colab_type": "text"
      },
      "source": [
        "**Creating real / fake dataframes**"
      ]
    },
    {
      "cell_type": "code",
      "metadata": {
        "id": "Ji_C8xmupREV",
        "colab_type": "code",
        "colab": {}
      },
      "source": [
        "whole_fake_df = fake_news_df.loc[fake_news_df['label']==1]\n",
        "whole_nonfake_df = fake_news_df.loc[fake_news_df['label']==0]\n",
        "\n",
        "train, test = train_test_split(fake_news_df, test_size=0.20, random_state=42)\n",
        "\n",
        "\n",
        "df = train\n",
        "# print(df.shape)\n",
        "df_test = test\n",
        "# print(df_test.shape)\n",
        "# create dfs for fake and nonfake news based on label values\n",
        "fake_df = df.loc[df['label']==1]\n",
        "nonfake_df = df.loc[df['label']==0]\n",
        "\n",
        "\n",
        "fake_prior = fake_df.shape[0] / (df.shape[0])\n",
        "nonfake_prior = nonfake_df.shape[0] / (df.shape[0])\n",
        "\n"
      ],
      "execution_count": 0,
      "outputs": []
    },
    {
      "cell_type": "markdown",
      "metadata": {
        "id": "yNDIh3XeDq8j",
        "colab_type": "text"
      },
      "source": [
        "**Part 1 - Is this Feasible?**"
      ]
    },
    {
      "cell_type": "code",
      "metadata": {
        "id": "NuoAbM4nDqQb",
        "colab_type": "code",
        "outputId": "975afd8c-0b68-492d-ab1c-798a2b4661a5",
        "colab": {
          "base_uri": "https://localhost:8080/",
          "height": 177
        }
      },
      "source": [
        "def is_title_fake(df, ngram, sw):\n",
        "\n",
        "    # title_list = []\n",
        "    # rows = df.loc[:,['title']].to_numpy() \n",
        "    # for r in rows:\n",
        "    #     new_r = str(r).strip( '[' ).strip(']')\n",
        "    #     title_list.append(new_r)\n",
        "    vectorizer = CountVectorizer( ngram_range=ngram, max_features=3, stop_words=sw, encoding='utf-8', decode_error='ignore')\n",
        "    txt = df.title.fillna(\"\")\n",
        "    X = vectorizer.fit_transform(txt) #_transform\n",
        "    feature_names = vectorizer.get_feature_names()\n",
        "    feature_count_matrix = X.toarray()\n",
        "    feature_count = X.toarray().sum(axis=0)\n",
        "    dictionary = dict(zip(feature_names,feature_count))\n",
        "\n",
        "    return dictionary\n",
        "\n",
        "\n",
        "######################################################\n",
        "#################### Uni-Gram ########################\n",
        "######################################################\n",
        "\n",
        "# call is title fake function to return the top-3 frequent words in fake_df['title']\n",
        "\n",
        "fake_titles_with_stop1 = is_title_fake(fake_df,(1,1),None)\n",
        "fake_titles_without_stop1 = is_title_fake(fake_df,(1,1), 'english')\n",
        "print('fake titles with stop-words uni-gram: ', fake_titles_without_stop1)\n",
        "print('fake titles without stop-words uni-gram : ', fake_titles_without_stop1)\n",
        "\n",
        "# call is title fake function to return the top-3 frequent words in nonfake_df['title']\n",
        "\n",
        "nonfake_titles_with_stop1 = is_title_fake(nonfake_df, (1,1), None)\n",
        "nonfake_titles_without_stop1 = is_title_fake(nonfake_df, (1,1), 'english')\n",
        "print('nonfake titles with stop-words uni-gram : ',nonfake_titles_with_stop1)\n",
        "print('nonfake titles without stop-words uni-gram : ', nonfake_titles_without_stop1)\n",
        "\n",
        "print()\n",
        "\n",
        "######################################################\n",
        "#################### Bi-Gram ########################\n",
        "######################################################\n",
        "\n",
        "# call is title fake function to return the top-3 frequent words in fake_df['title']\n",
        "\n",
        "fake_titles_with_stop2 = is_title_fake(fake_df,(2,2),None)\n",
        "fake_titles_without_stop2 = is_title_fake(fake_df,(2,2), 'english')\n",
        "print('fake titles with stop-words bi-gram : ', fake_titles_with_stop2)\n",
        "print('fake titles without stop-words bi-gram : ', fake_titles_without_stop2)\n",
        "\n",
        "# call is title fake function to return the top-3 frequent words in nonfake_df['title']\n",
        "\n",
        "nonfake_titles_with_stop2 = is_title_fake(nonfake_df, (2,2), None)\n",
        "nonfake_titles_without_stop2 = is_title_fake(nonfake_df, (2,2), 'english')\n",
        "print('nonfake titles with stop-words bi-gram : ',nonfake_titles_with_stop2)\n",
        "print('nonfake titles without stop-words bi-gram : ', nonfake_titles_without_stop2)\n"
      ],
      "execution_count": 21,
      "outputs": [
        {
          "output_type": "stream",
          "text": [
            "fake titles with stop-words uni-gram:  {'clinton': 566, 'hillary': 670, 'trump': 942}\n",
            "fake titles without stop-words uni-gram :  {'clinton': 566, 'hillary': 670, 'trump': 942}\n",
            "nonfake titles with stop-words uni-gram :  {'new': 4273, 'the': 5286, 'york': 4044}\n",
            "nonfake titles without stop-words uni-gram :  {'new': 4273, 'times': 4013, 'york': 4044}\n",
            "\n",
            "fake titles with stop-words bi-gram :  {'comment on': 190, 'hillary clinton': 204, 'of the': 190}\n",
            "fake titles without stop-words bi-gram :  {'donald trump': 156, 'hillary clinton': 205, 'world war': 61}\n",
            "nonfake titles with stop-words bi-gram :  {'new york': 4044, 'the new': 3985, 'york times': 3983}\n",
            "nonfake titles without stop-words bi-gram :  {'donald trump': 403, 'new york': 4044, 'york times': 3983}\n"
          ],
          "name": "stdout"
        }
      ]
    },
    {
      "cell_type": "markdown",
      "metadata": {
        "id": "GRAOgMB3qOfw",
        "colab_type": "text"
      },
      "source": [
        "**Part 1 - Plow Drawing**"
      ]
    },
    {
      "cell_type": "code",
      "metadata": {
        "id": "2u4MNp-X6RYZ",
        "colab_type": "code",
        "outputId": "8c171a6e-4a7e-40ca-897d-a946e50f3787",
        "colab": {
          "base_uri": "https://localhost:8080/",
          "height": 1000
        }
      },
      "source": [
        "######################################################\n",
        "#################### Uni-Gram ########################\n",
        "######################################################\n",
        "\n",
        "#  plot for top-3 fake words in headlines with stop-words\n",
        "x_axis = list(fake_titles_with_stop1.keys())\n",
        "print(x_axis)\n",
        "y_axis = list(fake_titles_with_stop1.values())\n",
        "print(y_axis)\n",
        "x_pos = [i for i, _ in enumerate(x_axis)]\n",
        "plt.bar(x_pos, y_axis, color='#866ec7')\n",
        "plt.xlabel('words')\n",
        "plt.ylabel('frequencies')\n",
        "plt.title(\"plot for top-3 fake Uni-Gram words in headlines with stop-words\")\n",
        "plt.xticks(x_pos, x_axis)\n",
        "plt.show()\n",
        "\n",
        "#  plot for top-3 non-fake words in headlines with stop-words\n",
        "x_axis = list(nonfake_titles_with_stop1.keys())\n",
        "print(x_axis)\n",
        "y_axis = list(nonfake_titles_with_stop1.values())\n",
        "print(y_axis)\n",
        "x_pos = [i for i, _ in enumerate(x_axis)]\n",
        "plt.bar(x_pos, y_axis, color='#8f71ff')\n",
        "plt.xlabel('words')\n",
        "plt.ylabel('frequencies')\n",
        "plt.title(\"plot for top-3 nonfake Uni-Gram words in headlines with stop-words\")\n",
        "plt.xticks(x_pos, x_axis)\n",
        "plt.show()\n",
        "\n",
        "#  plot for top-3 fake words in headlines without stop-words\n",
        "x_axis = list(fake_titles_without_stop1.keys())\n",
        "print(x_axis)\n",
        "y_axis = list(fake_titles_without_stop1.values())\n",
        "print(y_axis)\n",
        "x_pos = [i for i, _ in enumerate(x_axis)]\n",
        "plt.bar(x_pos, y_axis, color='#82acff')\n",
        "plt.xlabel('words')\n",
        "plt.ylabel('frequencies')\n",
        "plt.title(\"plot for top-3 fake Uni-Gram words in headlines without stop-words\")\n",
        "plt.xticks(x_pos, x_axis)\n",
        "plt.show()\n",
        "\n",
        "\n",
        "#  plot for top-3 non-fake words in headlines without stop-words\n",
        "x_axis = list(nonfake_titles_without_stop1.keys())\n",
        "print(x_axis)\n",
        "y_axis = list(nonfake_titles_without_stop1.values())\n",
        "print(y_axis)\n",
        "x_pos = [i for i, _ in enumerate(x_axis)]\n",
        "plt.bar(x_pos, y_axis, color='#b7fbff')\n",
        "plt.xlabel('words')\n",
        "plt.ylabel('frequencies')\n",
        "plt.title(\"plot for top-3 nonfake Uni-Gram words in headlines without stop-words\")\n",
        "plt.xticks(x_pos, x_axis)\n",
        "plt.show()\n",
        "\n",
        "\n",
        "######################################################\n",
        "#################### Bi-Gram ########################\n",
        "######################################################\n",
        "\n",
        "#  plot for top-3 fake words in headlines with stop-words\n",
        "x_axis = list(fake_titles_with_stop2.keys())\n",
        "print(x_axis)\n",
        "y_axis = list(fake_titles_with_stop2.values())\n",
        "print(y_axis)\n",
        "x_pos = [i for i, _ in enumerate(x_axis)]\n",
        "plt.bar(x_pos, y_axis, color='#f9989f')\n",
        "plt.xlabel('words')\n",
        "plt.ylabel('frequencies')\n",
        "plt.title(\"plot for top-3 fake Bi-Gram words in headlines with stop-words\")\n",
        "plt.xticks(x_pos, x_axis)\n",
        "plt.show()\n",
        "\n",
        "#  plot for top-3 non-fake words in headlines with stop-words\n",
        "x_axis = list(nonfake_titles_with_stop2.keys())\n",
        "print(x_axis)\n",
        "y_axis = list(nonfake_titles_with_stop2.values())\n",
        "print(y_axis)\n",
        "x_pos = [i for i, _ in enumerate(x_axis)]\n",
        "plt.bar(x_pos, y_axis, color='#fccb8f')\n",
        "plt.xlabel('words')\n",
        "plt.ylabel('frequencies')\n",
        "plt.title(\"plot for top-3 nonfake Bi-Gram words in headlines with stop-words\")\n",
        "plt.xticks(x_pos, x_axis)\n",
        "plt.show()\n",
        "\n",
        "#  plot for top-3 fake words in headlines without stop-words\n",
        "x_axis = list(fake_titles_without_stop2.keys())\n",
        "print(x_axis)\n",
        "y_axis = list(fake_titles_without_stop2.values())\n",
        "print(y_axis)\n",
        "x_pos = [i for i, _ in enumerate(x_axis)]\n",
        "plt.bar(x_pos, y_axis, color='#faf096')\n",
        "plt.xlabel('words')\n",
        "plt.ylabel('frequencies')\n",
        "plt.title(\"plot for top-3 fake Bi-Gram words in headlines without stop-words\")\n",
        "plt.xticks(x_pos, x_axis)\n",
        "plt.show()\n",
        "\n",
        "\n",
        "#  plot for top-3 non-fake words in headlines without stop-words\n",
        "x_axis = list(nonfake_titles_without_stop2.keys())\n",
        "print(x_axis)\n",
        "y_axis = list(nonfake_titles_without_stop2.values())\n",
        "print(y_axis)\n",
        "x_pos = [i for i, _ in enumerate(x_axis)]\n",
        "plt.bar(x_pos, y_axis, color='#c5f8c8')\n",
        "plt.xlabel('words')\n",
        "plt.ylabel('frequencies')\n",
        "plt.title(\"plot for top-3 nonfake Bi-Gram words in headlines without stop-words\")\n",
        "plt.xticks(x_pos, x_axis)\n",
        "plt.show()\n",
        "\n"
      ],
      "execution_count": 22,
      "outputs": [
        {
          "output_type": "stream",
          "text": [
            "['of', 'the', 'to']\n",
            "[1226, 2207, 1698]\n"
          ],
          "name": "stdout"
        },
        {
          "output_type": "display_data",
          "data": {
            "image/png": "[encoded data removed]",
            "text/plain": [
              "<Figure size 432x288 with 1 Axes>"
            ]
          },
          "metadata": {
            "tags": []
          }
        },
        {
          "output_type": "stream",
          "text": [
            "['new', 'the', 'york']\n",
            "[4273, 5286, 4044]\n"
          ],
          "name": "stdout"
        },
        {
          "output_type": "display_data",
          "data": {
            "image/png": "[encoded data removed]",
            "text/plain": [
              "<Figure size 432x288 with 1 Axes>"
            ]
          },
          "metadata": {
            "tags": []
          }
        },
        {
          "output_type": "stream",
          "text": [
            "['clinton', 'hillary', 'trump']\n",
            "[566, 670, 942]\n"
          ],
          "name": "stdout"
        },
        {
          "output_type": "display_data",
          "data": {
            "image/png": "[encoded data removed]",
            "text/plain": [
              "<Figure size 432x288 with 1 Axes>"
            ]
          },
          "metadata": {
            "tags": []
          }
        },
        {
          "output_type": "stream",
          "text": [
            "['new', 'times', 'york']\n",
            "[4273, 4013, 4044]\n"
          ],
          "name": "stdout"
        },
        {
          "output_type": "display_data",
          "data": {
            "image/png": "[encoded data removed]",
            "text/plain": [
              "<Figure size 432x288 with 1 Axes>"
            ]
          },
          "metadata": {
            "tags": []
          }
        },
        {
          "output_type": "stream",
          "text": [
            "['comment on', 'hillary clinton', 'of the']\n",
            "[190, 204, 190]\n"
          ],
          "name": "stdout"
        },
        {
          "output_type": "display_data",
          "data": {
            "image/png": "[encoded data removed]",
            "text/plain": [
              "<Figure size 432x288 with 1 Axes>"
            ]
          },
          "metadata": {
            "tags": []
          }
        },
        {
          "output_type": "stream",
          "text": [
            "['new york', 'the new', 'york times']\n",
            "[4044, 3985, 3983]\n"
          ],
          "name": "stdout"
        },
        {
          "output_type": "display_data",
          "data": {
            "image/png": "[encoded data removed]",
            "text/plain": [
              "<Figure size 432x288 with 1 Axes>"
            ]
          },
          "metadata": {
            "tags": []
          }
        },
        {
          "output_type": "stream",
          "text": [
            "['donald trump', 'hillary clinton', 'world war']\n",
            "[156, 205, 61]\n"
          ],
          "name": "stdout"
        },
        {
          "output_type": "display_data",
          "data": {
            "image/png": "[encoded data removed]",
            "text/plain": [
              "<Figure size 432x288 with 1 Axes>"
            ]
          },
          "metadata": {
            "tags": []
          }
        },
        {
          "output_type": "stream",
          "text": [
            "['donald trump', 'new york', 'york times']\n",
            "[403, 4044, 3983]\n"
          ],
          "name": "stdout"
        },
        {
          "output_type": "display_data",
          "data": {
            "image/png": "[encoded data removed]",
            "text/plain": [
              "<Figure size 432x288 with 1 Axes>"
            ]
          },
          "metadata": {
            "tags": []
          }
        }
      ]
    },
    {
      "cell_type": "markdown",
      "metadata": {
        "id": "IEd5IUFBDgsp",
        "colab_type": "text"
      },
      "source": [
        "**Part 2 - BoW** "
      ]
    },
    {
      "cell_type": "code",
      "metadata": {
        "id": "Y08DpA-Gba79",
        "colab_type": "code",
        "colab": {}
      },
      "source": [
        "# creates BoW for a given df\n",
        "# creates dictionaries for both label == 1 and label == 0\n",
        "\n",
        "def BoW(df,countizer, ngram, sw, max_freq, min_freq):\n",
        "        \n",
        "    if countizer == \"Tfiddf_countizer\":        \n",
        "        # vectorizer = TfidfVectorizer(ngram_range=ngram, stop_words=sw, max_df = max_freq, min_df = min_freq) # encoding='utf-8'\n",
        "        vectorizer=TfidfVectorizer(use_idf=True)\n",
        "        txt = df.text \n",
        "        # print(txt)\n",
        "        X = vectorizer.fit_transform(txt)\n",
        "        feature_names = vectorizer.get_feature_names()\n",
        "        feature_count = X.toarray().sum(axis=0) #/len(feature_names)\n",
        "        dictionary = dict(zip(feature_names,feature_count))\n",
        "\n",
        "    \n",
        "    elif countizer == \"count_vectorizer\":  \n",
        "        vectorizer = CountVectorizer(ngram_range=ngram, stop_words=sw, max_df = max_freq, min_df = min_freq) \n",
        "    # X = vectorizer.fit_transform(rows_list) #_transform\n",
        "            \n",
        "        txt = df.text #.fillna(\"\")\n",
        "        # print(txt)\n",
        "        X = vectorizer.fit_transform(txt)\n",
        "        \n",
        "        feature_names = vectorizer.get_feature_names()\n",
        "        feature_count = X.toarray().sum(axis=0)\n",
        "        dictionary = dict(zip(feature_names,feature_count))\n",
        "\n",
        "    return dictionary\n",
        "\n",
        "\n",
        "\n"
      ],
      "execution_count": 0,
      "outputs": []
    },
    {
      "cell_type": "markdown",
      "metadata": {
        "id": "BobuH4tkpJ8g",
        "colab_type": "text"
      },
      "source": [
        "# **# IMPORTANT!!!<BR/> FOR THE NEXT 4 CODE CELLS, ONLY CHOSE ONE AT AN EXECUTION TIME AND FOR YOUR CHOICE, CHOOSE THE SAME COMBINATION FOR THE LATER CODE CELLS**"
      ]
    },
    {
      "cell_type": "markdown",
      "metadata": {
        "id": "htVXro51oUdv",
        "colab_type": "text"
      },
      "source": [
        "***If you want to calculate accuracy for UNI-GRAM and WITH STOP WORDS, RUN THIS, else Go To Next Code Cell***"
      ]
    },
    {
      "cell_type": "code",
      "metadata": {
        "id": "SlugqC3GoOUS",
        "colab_type": "code",
        "colab": {}
      },
      "source": [
        "######################################################\n",
        "#################### Uni-Gram ########################\n",
        "######################################################\n",
        "\n",
        "# dictionaries with stop-words\n",
        "fake_bag_with_stop1, nonfake_bag_with_stop1 = BoW(fake_df, \"count_vectorizer\", (1,1), None, 1.0, 1), BoW(nonfake_df, \"count_vectorizer\", (1,1), None, 1.0, 1)\n"
      ],
      "execution_count": 0,
      "outputs": []
    },
    {
      "cell_type": "markdown",
      "metadata": {
        "id": "zNp-OIVLouLh",
        "colab_type": "text"
      },
      "source": [
        "***If you want to calculate accuracy for UNI-GRAM and WITHOUT STOP WORDS, RUN THIS, else Go To Next Code Cell***"
      ]
    },
    {
      "cell_type": "code",
      "metadata": {
        "id": "Hk5qrm8jooc5",
        "colab_type": "code",
        "colab": {}
      },
      "source": [
        "######################################################\n",
        "#################### Uni-Gram ########################\n",
        "######################################################\n",
        "\n",
        "# dictionaries without stop-words\n",
        "fake_bag_without_stop1, nonfake_bag_without_stop1 = BoW(fake_df, \"count_vectorizer\", (1,1), 'english', 1.0, 1), BoW(nonfake_df, \"count_vectorizer\", (1,1), 'english', 1.0, 1)"
      ],
      "execution_count": 0,
      "outputs": []
    },
    {
      "cell_type": "markdown",
      "metadata": {
        "id": "5fLEPI4Ho0fl",
        "colab_type": "text"
      },
      "source": [
        "***If you want to calculate accuracy for BI-GRAM and WITH STOP WORDS, RUN THIS, else Go To Next Code Cell***\n",
        "\n"
      ]
    },
    {
      "cell_type": "code",
      "metadata": {
        "id": "c8ZLU4WYoQmo",
        "colab_type": "code",
        "colab": {}
      },
      "source": [
        "# ######################################################\n",
        "# #################### Bi-Gram ########################\n",
        "# ######################################################\n",
        "\n",
        "# # dictionaries with stop-words\n",
        "fake_bag_with_stop2= BoW(fake_df, \"count_vectorizer\", (2,2), None, 1.0, 0.2)\n",
        "nonfake_bag_with_stop2 = BoW(nonfake_df, \"count_vectorizer\", (2,2), None, 1.0, 0.2)\n",
        "\n"
      ],
      "execution_count": 0,
      "outputs": []
    },
    {
      "cell_type": "markdown",
      "metadata": {
        "id": "OpoFrbAEpFc2",
        "colab_type": "text"
      },
      "source": [
        "***If you want to calculate accuracy for BI-GRAM and WITHOUT STOP WORDS, RUN THIS, else Go To Next Code Cell***\n"
      ]
    },
    {
      "cell_type": "code",
      "metadata": {
        "id": "iaSmQLXso7Av",
        "colab_type": "code",
        "colab": {}
      },
      "source": [
        "# ######################################################\n",
        "# #################### Bi-Gram ########################\n",
        "# ######################################################\n",
        "\n",
        "# # dictionaries without stop-words\n",
        "fake_bag_without_stop2 = BoW(fake_df, \"count_vectorizer\", (2,2), 'english', 1.0, 0.2)\n",
        "nonfake_bag_without_stop2 = BoW(nonfake_df, \"count_vectorizer\", (2,2), 'english', 1.0, 0.2)"
      ],
      "execution_count": 0,
      "outputs": []
    },
    {
      "cell_type": "markdown",
      "metadata": {
        "id": "yPpC_feuNAcS",
        "colab_type": "text"
      },
      "source": [
        "**Part 2 - Naive Bayes**"
      ]
    },
    {
      "cell_type": "code",
      "metadata": {
        "id": "k4WD5qzLTDX3",
        "colab_type": "code",
        "colab": {}
      },
      "source": [
        "\n",
        "def naive_bayes(fake_dict, nonfake_dict, test_df ,fake_prior, nonfake_prior, n_gram):\n",
        "    \n",
        "\n",
        "\n",
        "    predicted_labels = dict()\n",
        "    actual_labels = dict()\n",
        "\n",
        "    distinct_fake_words = list(fake_dict.keys())\n",
        "    distinct_nonfake_words = list(fake_dict.keys())\n",
        "    total_distinct_words = len(set(distinct_fake_words + distinct_nonfake_words))\n",
        "\n",
        "    total_fake_words = sum(fake_dict.values())\n",
        "    total_nonfake_words = sum(nonfake_dict.values())\n",
        "    ids = list(test_df.id.values)\n",
        "\n",
        "    labels = list(test_df.label.values)    \n",
        "    num_of_fake = 0\n",
        "    num_of_nonfake =0 \n",
        "    for l in labels:\n",
        "        if (str(l) == '1'):\n",
        "            num_of_fake += 1\n",
        "        else:\n",
        "            num_of_nonfake += 1\n",
        "\n",
        "\n",
        "    count_row = test_df.shape[0]\n",
        "        \n",
        "    if(n_gram == 'uni-gram'): \n",
        "        for i in range(count_row):\n",
        "            try:                                  \n",
        "                sub_df = test_df.iloc[i:i+1]\n",
        "                # print(\"sub df :: \", sub_df)\n",
        "                actual_labels[ids[i]] = labels[i]\n",
        "                sub_dict = BoW(sub_df, \"count_vectorizer\", (1,1), None, 1.0, 1)\n",
        "                \n",
        "                fake_prob = []\n",
        "                nonfake_prob = []\n",
        "                for key, value in sub_dict.items():\n",
        "                    # print(key, value)\n",
        "                    if( key in fake_dict):\n",
        "                        fake_freq = fake_dict[key]\n",
        "                    else:\n",
        "                        fake_freq = 0\n",
        "                    if( key in nonfake_dict):\n",
        "                        nonfake_freq = nonfake_dict[key] \n",
        "                    else:\n",
        "                        nonfake_freq = 0\n",
        "                    prob_of_fake = ((fake_freq + 1) / (total_fake_words  + total_distinct_words)) ** value\n",
        "                    fake_prob.append(prob_of_fake)\n",
        "                    prob_of_nonfake = ((nonfake_freq + 1) / (total_nonfake_words  + total_distinct_words)) ** value\n",
        "                    nonfake_prob.append(prob_of_nonfake)\n",
        "                fake_prob.append(fake_prior)\n",
        "                nonfake_prob.append(nonfake_prior)\n",
        "                is_fake = sum((math.log2(p) for p in fake_prob)) \n",
        "                is_nonfake = sum((math.log2(p) for p in nonfake_prob)) \n",
        "                if(is_fake > is_nonfake):\n",
        "                    predicted_labels[ids[i]] = '1'\n",
        "                elif(is_fake < is_nonfake):\n",
        "                    predicted_labels[ids[i]] = '0'\n",
        "                else :\n",
        "                    predicted_labels[ids[i]] = '0'\n",
        "            except:                   \n",
        "                predicted_labels[ids[i]] = '2'\n",
        "                pass\n",
        "    elif(n_gram == 'bi-gram'):\n",
        "        for i in range(count_row):\n",
        "            try:                                  \n",
        "                sub_df = test_df.iloc[i:i+1]\n",
        "                # print(\"sub df :: \", sub_df)\n",
        "                actual_labels[ids[i]] = labels[i]\n",
        "                sub_dict = BoW(sub_df, \"count_vectorizer\", (2,2), None, 1.0, 0.2)\n",
        "                \n",
        "                fake_prob = []\n",
        "                nonfake_prob = []\n",
        "                for key, value in sub_dict.items():\n",
        "                    # print(key, value)\n",
        "                    if( key in fake_dict):\n",
        "                        fake_freq = fake_dict[key]\n",
        "                    else:\n",
        "                        fake_freq = 0\n",
        "                    if( key in nonfake_dict):\n",
        "                        nonfake_freq = nonfake_dict[key] \n",
        "                    else:\n",
        "                        nonfake_freq = 0\n",
        "                    prob_of_fake = ((fake_freq + 1) / (total_fake_words  + total_distinct_words)) ** value\n",
        "                    fake_prob.append(prob_of_fake)\n",
        "                    prob_of_nonfake = ((nonfake_freq + 1) / (total_nonfake_words  + total_distinct_words)) ** value\n",
        "                    nonfake_prob.append(prob_of_nonfake)\n",
        "                fake_prob.append(fake_prior)\n",
        "                nonfake_prob.append(nonfake_prior)\n",
        "                is_fake = sum((math.log2(p) for p in fake_prob)) \n",
        "                is_nonfake = sum((math.log2(p) for p in nonfake_prob)) \n",
        "                if(is_fake > is_nonfake):\n",
        "                    predicted_labels[ids[i]] = '1'\n",
        "                elif(is_fake < is_nonfake):\n",
        "                    predicted_labels[ids[i]] = '0'\n",
        "                else :\n",
        "                    predicted_labels[ids[i]] = '0'\n",
        "            except:                   \n",
        "                predicted_labels[ids[i]] = '2'\n",
        "                pass\n",
        "                \n",
        "    return predicted_labels, actual_labels\n",
        "    "
      ],
      "execution_count": 0,
      "outputs": []
    },
    {
      "cell_type": "markdown",
      "metadata": {
        "id": "mPoRjDjhpzfX",
        "colab_type": "text"
      },
      "source": [
        "# **# IMPORTANT!!! IF YOU RAN BOW FUNCTION FOR UNI-GRAM AND WITH STOP-WORDS RUN THIS, ELSE GO TO NEXT CODE CELL**"
      ]
    },
    {
      "cell_type": "code",
      "metadata": {
        "id": "o-gPPRrXpqrt",
        "colab_type": "code",
        "colab": {}
      },
      "source": [
        "######################################################\n",
        "#################### Uni-Gram ########################\n",
        "######################################################\n",
        "predicted_labels, actual_labels = naive_bayes(fake_bag_with_stop1,nonfake_bag_with_stop1, df_test,fake_prior, nonfake_prior, \"uni-gram\",)\n"
      ],
      "execution_count": 0,
      "outputs": []
    },
    {
      "cell_type": "markdown",
      "metadata": {
        "id": "AWHsZ7paqPlk",
        "colab_type": "text"
      },
      "source": [
        "# **# IMPORTANT!!! IF YOU RAN BOW FUNCTION FOR UNI-GRAM AND *WITHOUT* STOP-WORDS RUN THIS, ELSE GO TO NEXT CODE CELL**"
      ]
    },
    {
      "cell_type": "code",
      "metadata": {
        "id": "UckaqgsbqLGN",
        "colab_type": "code",
        "colab": {}
      },
      "source": [
        "######################################################\n",
        "#################### Uni-Gram ########################\n",
        "######################################################\n",
        "predicted_labels, actual_labels = naive_bayes(fake_bag_without_stop1,nonfake_bag_without_stop1, df_test,fake_prior, nonfake_prior, \"uni-gram\")"
      ],
      "execution_count": 0,
      "outputs": []
    },
    {
      "cell_type": "markdown",
      "metadata": {
        "id": "-j1g7Eh0qaTK",
        "colab_type": "text"
      },
      "source": [
        "# **# IMPORTANT!!! IF YOU RAN BOW FUNCTION FOR BI-GRAM AND *WITH* STOP-WORDS RUN THIS, ELSE GO TO NEXT CODE CELL**"
      ]
    },
    {
      "cell_type": "code",
      "metadata": {
        "id": "oItaabPlprHY",
        "colab_type": "code",
        "colab": {}
      },
      "source": [
        "# # ######################################################\n",
        "# # #################### Bi-Gram ########################\n",
        "# # ######################################################\n",
        "predicted_labels, actual_labels = naive_bayes(fake_bag_with_stop2,nonfake_bag_with_stop2, df_test,fake_prior, nonfake_prior, \"bi-gram\")\n"
      ],
      "execution_count": 0,
      "outputs": []
    },
    {
      "cell_type": "markdown",
      "metadata": {
        "id": "ayyv2e4Tqg6P",
        "colab_type": "text"
      },
      "source": [
        "# **# IMPORTANT!!! IF YOU RAN BOW FUNCTION FOR BI-GRAM AND *WITHOUT* STOP-WORDS RUN THIS, ELSE GO TO NEXT CODE CELL**"
      ]
    },
    {
      "cell_type": "code",
      "metadata": {
        "id": "gZlFUHJLqTl8",
        "colab_type": "code",
        "colab": {}
      },
      "source": [
        "# # ######################################################\n",
        "# # #################### Bi-Gram ########################\n",
        "# # ######################################################\n",
        "predicted_labels, actual_labels = naive_bayes(fake_bag_without_stop2,nonfake_bag_without_stop2, df_test,fake_prior, nonfake_prior, \"bi-gram\")"
      ],
      "execution_count": 0,
      "outputs": []
    },
    {
      "cell_type": "markdown",
      "metadata": {
        "id": "1pBu-3RlEnpU",
        "colab_type": "text"
      },
      "source": [
        "**Part 3 - TF-IDF Analysis**"
      ]
    },
    {
      "cell_type": "code",
      "metadata": {
        "id": "3BokOht5g14P",
        "colab_type": "code",
        "outputId": "f337504d-71c2-4363-ebed-da1fd70579af",
        "colab": {
          "base_uri": "https://localhost:8080/",
          "height": 357
        }
      },
      "source": [
        "def calculate_tfidf(df, range):\n",
        "    txt = df.text\n",
        "    count_vectorizer = CountVectorizer(stop_words = 'english')\n",
        "    X = count_vectorizer.fit_transform(txt)\n",
        "    feature_names = count_vectorizer.get_feature_names()\n",
        "    transformer = TfidfTransformer()\n",
        "    transformer.fit(X)\n",
        "    tfidf_df = pd.DataFrame(transformer.idf_, index = feature_names, columns=['tfidf_weights'])\n",
        "    tfidf_df = tfidf_df.sort_values(by=['tfidf_weights'])\n",
        "    if(range == \"last 50\"):\n",
        "        values = tfidf_df.iloc[-50:]\n",
        "    elif(range == \"first 50\"):\n",
        "        values = tfidf_df.iloc[:50]\n",
        "    # print(list(values.index))\n",
        "    return set(values.index)\n",
        "\n",
        "\n",
        "\n",
        "first_20_fake = calculate_tfidf(whole_fake_df, \"first 50\")\n",
        "first_20_nonfake = calculate_tfidf(whole_nonfake_df, \"first 50\")\n",
        "\n",
        "common_words = list(first_20_fake.intersection(first_20_nonfake))\n",
        "\n",
        "for w in common_words:\n",
        "    first_20_fake.remove(w)\n",
        "    first_20_nonfake.remove(w)\n",
        "first_10_fake = list(first_20_fake)[:10]\n",
        "first_10_nonfake = list(first_20_nonfake)[:10]\n",
        "\n",
        "print(\"Common most tf-idf valued words in real and fake datasets: \")\n",
        "print(common_words)\n",
        "print()\n",
        "print(\"top-10 fake words: \")\n",
        "print(first_10_fake)\n",
        "print()\n",
        "print(\"top-10 real words: \")\n",
        "print(first_10_nonfake)\n",
        "\n",
        "print()\n",
        "print()\n",
        "\n",
        "last_20_fake = calculate_tfidf(whole_fake_df, \"last 50\")\n",
        "last_20_nonfake = calculate_tfidf(whole_nonfake_df, \"last 50\")\n",
        "\n",
        "common_words = list(last_20_fake.intersection(last_20_nonfake))\n",
        "\n",
        "for w in common_words:\n",
        "    last_20_fake.remove(w)\n",
        "    last_20_nonfake.remove(w)\n",
        "last_10_fake = list(last_20_fake)[:10]\n",
        "last_10_nonfake = list(last_20_nonfake)[:10]\n",
        "\n",
        "print(\"Common least tf-idf valued words in real and fake datasets: \")\n",
        "print(common_words)\n",
        "print()\n",
        "print(\"last-10 fake words: \")\n",
        "print(last_10_fake)\n",
        "print()\n",
        "print(\"last-10 real words: \")\n",
        "print(last_10_nonfake)"
      ],
      "execution_count": 8,
      "outputs": [
        {
          "output_type": "stream",
          "text": [
            "Common most tf-idf valued words in real and fake datasets: \n",
            "['world', 'trump', 'right', 'new', 'year', 'american', 'don', 'told', 'want', 'people', 'country', 'know', 'years', 'make', 'long', 'political', 'news', 'did', 'called', 'way', 'time', 'states', 'donald', 'public', 'say', 'good', 'day', 'like', 'think', 'said', 'going', 'united', 'just', 'according', 'government', 'president', 'state']\n",
            "\n",
            "top-10 fake words: \n",
            "['november', 'use', '2016', 'need', 'clinton', 'election', 'fact', 'campaign', 'america', 'october']\n",
            "\n",
            "top-10 real words: \n",
            "['work', 'twitter', 'york', 'including', 'took', 'week', 'national', 'white', 'house', 'group']\n",
            "\n",
            "\n",
            "Common least tf-idf valued words in real and fake datasets: \n",
            "[]\n",
            "\n",
            "last-10 fake words: \n",
            "['lingram90', 'limpiemos', 'linguistique', 'limn', 'limpara', 'lionize', 'linguistische', 'linguistiques', 'lingonberries', 'limpiado']\n",
            "\n",
            "last-10 real words: \n",
            "['kevan', 'kewpie', 'ketzale', 'kfile', 'keyser', 'keytruda', 'khal', 'khadr', 'keynotes', 'kevinfalls']\n"
          ],
          "name": "stdout"
        }
      ]
    },
    {
      "cell_type": "markdown",
      "metadata": {
        "id": "jc6_W4EDNipL",
        "colab_type": "text"
      },
      "source": [
        "**Part 3 - Narrow BoW (optional) Run this if you want to calculate accuracy for the narrowed BoW, else go to the next code cell**"
      ]
    },
    {
      "cell_type": "code",
      "metadata": {
        "id": "IzyvMfG3NiFf",
        "colab_type": "code",
        "outputId": "3074ea38-49ff-4f9e-925e-0916ac77905e",
        "colab": {
          "base_uri": "https://localhost:8080/",
          "height": 161
        }
      },
      "source": [
        "\n",
        "def narrow_BoW(fake_bag, nonfake_bag):\n",
        "    \n",
        "    common_words = dict()\n",
        "    little_fake_bag = fake_bag.copy()\n",
        "    little_nonfake_bag = nonfake_bag.copy()\n",
        "\n",
        "    # rearrange the dictionaries with respect to feature count priorities\n",
        "    delete_from_fakes = []\n",
        "    delete_from_nonfakes = []\n",
        "\n",
        "    print(len(little_fake_bag))\n",
        "    print(len(little_nonfake_bag))\n",
        "\n",
        "    for key, value in little_fake_bag.items():\n",
        "        if( key in little_nonfake_bag ):\n",
        "            other_val = little_nonfake_bag[key]\n",
        "            common_words[key] = other_val\n",
        "            if( value > other_val):\n",
        "                delete_from_nonfakes.append(key)\n",
        "            elif( value < other_val):\n",
        "                delete_from_fakes.append(key)\n",
        "\n",
        "    if(delete_from_fakes):\n",
        "        for key in delete_from_fakes:\n",
        "            del little_fake_bag[key]\n",
        "\n",
        "    if(delete_from_nonfakes):\n",
        "        for key in delete_from_nonfakes:\n",
        "            del little_nonfake_bag[key]\n",
        "\n",
        "    print(len(little_fake_bag))\n",
        "    print(len(little_nonfake_bag))\n",
        "\n",
        "    return little_fake_bag, little_nonfake_bag, common_words\n",
        "\n",
        "little_fake_bag , little_nonfake_bag, common_words = narrow_BoW(fake_bag_without_stop1, nonfake_bag_without_stop1)\n",
        "\n",
        "##############################################################################\n",
        "#############################################################################\n",
        "##################### top 10 fake words ######################################\n",
        "####################### without stop wprds ########################################\n",
        "#List the 10 words whose presence most strongly predicts that the news is nonfake\n",
        "sorted_little_nonfake = sorted(little_nonfake_bag, key=little_nonfake_bag.get, reverse=True)\n",
        "print(type(sorted_little_nonfake))\n",
        "top_10_nonfake = dict()\n",
        "i = 0\n",
        "for i in range(10):\n",
        "    key = sorted_little_nonfake[i]\n",
        "    top_10_nonfake[key] = little_nonfake_bag[key]\n",
        "print(\"List the 10 words whose presence most strongly predicts that the news is real: \", top_10_nonfake)\n",
        "\n",
        "    \n",
        "##############################################################################\n",
        "#############################################################################\n",
        "##################### top 10 fake words ######################################\n",
        "####################### without stop words #####################################\n",
        "#List the 10 words whose presence most strongly predicts that the news is fake\n",
        "sorted_little_fake = sorted(little_fake_bag, key=little_fake_bag.get, reverse=True)\n",
        "top_10_fake = dict()\n",
        "i = 0\n",
        "for i in range(10):\n",
        "    key = sorted_little_fake[i]\n",
        "    top_10_fake[key] = little_fake_bag[key]\n",
        "print(\"List the 10 words whose presence most strongly predicts that the news is fake: \",top_10_fake)\n",
        "\n"
      ],
      "execution_count": 28,
      "outputs": [
        {
          "output_type": "stream",
          "text": [
            "105600\n",
            "80630\n",
            "81097\n",
            "66556\n",
            "<class 'list'>\n",
            "List the 10 words whose presence most strongly predicts that the news is real:  {'said': 43652, 'mr': 41467, 'trump': 23211, 'people': 12853, 'new': 12515, 'president': 10866, 'like': 10192, 'ms': 7925, 'time': 7601, 'state': 7328}\n",
            "List the 10 words whose presence most strongly predicts that the news is fake:  {'clinton': 11958, 'hillary': 8370, 'world': 6011, '2016': 5527, 'election': 5322, 'obama': 4987, 'war': 4777, 'russia': 4271, 'media': 4209, 'know': 3834}\n"
          ],
          "name": "stdout"
        }
      ]
    },
    {
      "cell_type": "markdown",
      "metadata": {
        "id": "1ftdY44Jjt4B",
        "colab_type": "text"
      },
      "source": [
        "# RUN THIS IF YOU RAN NARROW_BOW FUNCTION, TO CALCULATE THE ACCURACY FOR NARROWED BOW\n",
        "**Part 3 - Reevaluate Naive Bayes with narrowed BoWs (optional)**\n"
      ]
    },
    {
      "cell_type": "code",
      "metadata": {
        "id": "eDLo9fDcj3a4",
        "colab_type": "code",
        "colab": {}
      },
      "source": [
        "predicted_labels, actual_labels = naive_bayes(top_10_fake,top_10_nonfake, df_test,fake_prior, nonfake_prior, \"uni-gram\")\n"
      ],
      "execution_count": 0,
      "outputs": []
    },
    {
      "cell_type": "markdown",
      "metadata": {
        "id": "9E4DO8hiNPts",
        "colab_type": "text"
      },
      "source": [
        "**Part 4 - Calculate Accuracy**"
      ]
    },
    {
      "cell_type": "code",
      "metadata": {
        "id": "iV8m2-6PHWwa",
        "colab_type": "code",
        "outputId": "5b97cf3f-6048-46de-db72-093b8ff456c4",
        "colab": {
          "base_uri": "https://localhost:8080/",
          "height": 35
        }
      },
      "source": [
        "\n",
        "\n",
        "def calculate_acc(pre, gt):\n",
        "    correct = 0    \n",
        "    total = len(pre)\n",
        "    label_2 = 0\n",
        "    for key, value in pre.items():\n",
        "        if( value == str(gt[key])):\n",
        "            correct += 1\n",
        "        elif( value == '2'):\n",
        "            label_2 += 1\n",
        "            total -=1\n",
        "    acc = (correct / total ) * 100\n",
        "    # print(label_2)\n",
        "    return acc\n",
        "\n",
        "\n",
        "\n",
        "acc = calculate_acc(predicted_labels, actual_labels)\n",
        "print(\"Accuracy: \", acc)\n"
      ],
      "execution_count": 9,
      "outputs": [
        {
          "output_type": "stream",
          "text": [
            "Accuracy:  90.83409715857012\n"
          ],
          "name": "stdout"
        }
      ]
    }
  ]
}